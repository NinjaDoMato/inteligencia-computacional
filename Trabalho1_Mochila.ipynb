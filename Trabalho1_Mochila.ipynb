{
  "nbformat": 4,
  "nbformat_minor": 0,
  "metadata": {
    "colab": {
      "name": "Trabalho1 - Mochila.ipynb",
      "provenance": [],
      "collapsed_sections": [],
      "include_colab_link": true
    },
    "kernelspec": {
      "name": "python3",
      "display_name": "Python 3"
    }
  },
  "cells": [
    {
      "cell_type": "markdown",
      "metadata": {
        "id": "view-in-github",
        "colab_type": "text"
      },
      "source": [
        "<a href=\"https://colab.research.google.com/github/NinjaDoMato/inteligencia-computacional/blob/master/Trabalho1_Mochila.ipynb\" target=\"_parent\"><img src=\"https://colab.research.google.com/assets/colab-badge.svg\" alt=\"Open In Colab\"/></a>"
      ]
    },
    {
      "cell_type": "code",
      "metadata": {
        "id": "13XoVHEE7MhE",
        "colab_type": "code",
        "outputId": "e315a9b4-3ef3-4434-b6c4-3306fcb840cc",
        "colab": {
          "base_uri": "https://localhost:8080/",
          "height": 34
        }
      },
      "source": [
        "\"\"\"\n",
        "Problema da Mochila\n",
        "\n",
        "Autor: Daniel Deda\n",
        "\"\"\""
      ],
      "execution_count": 14,
      "outputs": [
        {
          "output_type": "execute_result",
          "data": {
            "text/plain": [
              "'\\nProblema da Mochila\\n\\nAutor: Daniel Deda\\n'"
            ]
          },
          "metadata": {
            "tags": []
          },
          "execution_count": 14
        }
      ]
    },
    {
      "cell_type": "code",
      "metadata": {
        "id": "1hl1U2JhpogK",
        "colab_type": "code",
        "colab": {}
      },
      "source": [
        "#pip install -q deap"
      ],
      "execution_count": 0,
      "outputs": []
    },
    {
      "cell_type": "code",
      "metadata": {
        "id": "sM2dAntTo5N_",
        "colab_type": "code",
        "colab": {}
      },
      "source": [
        "import random\n",
        "\n",
        "from deap import base\n",
        "from deap import creator\n",
        "from deap import tools\n",
        "from deap import algorithms\n",
        "\n",
        "import numpy"
      ],
      "execution_count": 0,
      "outputs": []
    },
    {
      "cell_type": "code",
      "metadata": {
        "id": "bOQGMSsipAwy",
        "colab_type": "code",
        "colab": {}
      },
      "source": [
        "TAM_CROMOSSOMO = 12\n",
        "TAM_POPULACAO = 250\n",
        "\n",
        "ItemList = [[\"Bug Repelent\", 12, 2], \n",
        "            [\"Camp Stove\", 5, 4], \n",
        "            [\"Canteen\", 10, 7], \n",
        "            [\"Clothes\", 1, 5], \n",
        "            [\"Dried Food\", 50, 3],\n",
        "            [\"First Aid Kit\", 15, 3],\n",
        "            [\"FlashLight\", 6, 2],\n",
        "            [\"Novel\", 4, 2],\n",
        "            [\"Rain Gear\", 5, 2],\n",
        "            [\"Sleeping Bag\", 25, 3],\n",
        "            [\"Tent\", 20, 11],\n",
        "            [\"Water Filter\", 30, 1]]\n",
        "\n",
        "def fitness(cromossomo):\n",
        "    \"\"\"Funcao fitness para maximizar o cromossomo\n",
        "    Deve retornar uma tupla!!!\n",
        "    \"\"\"\n",
        "    weight = 0    \n",
        "    total = 0\n",
        "\n",
        "    for i, item in enumerate(cromossomo): \n",
        "        if item == 1:\n",
        "            total += ItemList[i][1]           \n",
        "            weight += ItemList[i][2]\n",
        "        \n",
        "    if weight > 20:\n",
        "        total = -1\n",
        "    \n",
        "    return total, weight"
      ],
      "execution_count": 0,
      "outputs": []
    },
    {
      "cell_type": "code",
      "metadata": {
        "id": "e-oPpqGJpD4V",
        "colab_type": "code",
        "outputId": "6c7d6e9b-f0a1-4076-8288-82ff400e6cff",
        "colab": {
          "base_uri": "https://localhost:8080/",
          "height": 85
        }
      },
      "source": [
        "# Define a estrategia do fitness\n",
        "# - weights: define se o problema é de maximizacao (+1) ou minimizacao (-1)\n",
        "creator.create(\"FitnessMax\", base.Fitness, weights=(1.0,))\n",
        "\n",
        "# Define a estrutura do cromossomo\n",
        "creator.create(\"Individual\", list, fitness=creator.FitnessMax)"
      ],
      "execution_count": 18,
      "outputs": [
        {
          "output_type": "stream",
          "text": [
            "/usr/local/lib/python3.6/dist-packages/deap/creator.py:141: RuntimeWarning: A class named 'FitnessMax' has already been created and it will be overwritten. Consider deleting previous creation of that class or rename it.\n",
            "  RuntimeWarning)\n",
            "/usr/local/lib/python3.6/dist-packages/deap/creator.py:141: RuntimeWarning: A class named 'Individual' has already been created and it will be overwritten. Consider deleting previous creation of that class or rename it.\n",
            "  RuntimeWarning)\n"
          ],
          "name": "stderr"
        }
      ]
    },
    {
      "cell_type": "code",
      "metadata": {
        "id": "Dcu73qI7pGsC",
        "colab_type": "code",
        "colab": {}
      },
      "source": [
        "# Define os componentes para configurar a populacao\n",
        "toolbox = base.Toolbox()\n",
        "\n",
        "# Gerador para os individuos\n",
        "toolbox.register(\"attr_bool\", random.randint, 0, 1)\n",
        "\n",
        "# Inicializador da populacao\n",
        "toolbox.register(\"individual\", tools.initRepeat, \n",
        "                 creator.Individual, \n",
        "                 toolbox.attr_bool, TAM_CROMOSSOMO)\n",
        "\n",
        "toolbox.register(\"population\", tools.initRepeat, list, toolbox.individual)"
      ],
      "execution_count": 0,
      "outputs": []
    },
    {
      "cell_type": "code",
      "metadata": {
        "id": "U1DzqGuYpH-i",
        "colab_type": "code",
        "colab": {}
      },
      "source": [
        "# Define os operadores geneticos\n",
        "toolbox.register(\"evaluate\", fitness)\n",
        "\n",
        "toolbox.register(\"mate\", tools.cxTwoPoint)\n",
        "toolbox.register(\"mutate\", tools.mutFlipBit, indpb=0.1)\n",
        "toolbox.register(\"select\", tools.selRoulette)"
      ],
      "execution_count": 0,
      "outputs": []
    },
    {
      "cell_type": "code",
      "metadata": {
        "id": "eEf2md1LpJdR",
        "colab_type": "code",
        "colab": {}
      },
      "source": [
        "# Cria a populacao inicial\n",
        "populacao = toolbox.population(n=TAM_POPULACAO)"
      ],
      "execution_count": 0,
      "outputs": []
    },
    {
      "cell_type": "code",
      "metadata": {
        "id": "ZCefCxbUpLoh",
        "colab_type": "code",
        "outputId": "4c6539ba-2c73-4542-c5dd-cdd3cff5f5f3",
        "colab": {
          "base_uri": "https://localhost:8080/",
          "height": 1000
        }
      },
      "source": [
        "hof = tools.HallOfFame(10)\n",
        "stats = tools.Statistics(lambda ind: ind.fitness.values)\n",
        "stats.register(\"avg\", numpy.mean)\n",
        "stats.register(\"std\", numpy.std)\n",
        "stats.register(\"min\", numpy.min)\n",
        "stats.register(\"max\", numpy.max)\n",
        "    \n",
        "pop, log = algorithms.eaSimple(populacao, \n",
        "                               toolbox, \n",
        "                               cxpb=1, \n",
        "                               mutpb=0.1, \n",
        "                               ngen=100, \n",
        "                               stats=stats, \n",
        "                               halloffame=hof, \n",
        "                               verbose=True)"
      ],
      "execution_count": 22,
      "outputs": [
        {
          "output_type": "stream",
          "text": [
            "gen\tnevals\tavg   \tstd   \tmin\tmax\n",
            "0  \t250   \t27.844\t41.884\t-1 \t142\n",
            "1  \t250   \t77.66 \t41.1685\t-1 \t147\n",
            "2  \t250   \t82.188\t43.9366\t-1 \t147\n",
            "3  \t250   \t93.48 \t38.2075\t-1 \t147\n",
            "4  \t250   \t97.776\t39.6602\t-1 \t147\n",
            "5  \t250   \t102.492\t39.0046\t-1 \t147\n",
            "6  \t250   \t105.772\t36.8226\t-1 \t148\n",
            "7  \t250   \t110.164\t32.7299\t-1 \t148\n",
            "8  \t250   \t109.756\t33.9371\t-1 \t147\n",
            "9  \t250   \t113.828\t28.1513\t-1 \t147\n",
            "10 \t250   \t116.776\t23.6619\t-1 \t147\n",
            "11 \t250   \t114.324\t29.5225\t-1 \t147\n",
            "12 \t250   \t117.532\t25.6595\t-1 \t147\n",
            "13 \t250   \t118.292\t26.3508\t-1 \t147\n",
            "14 \t250   \t116.688\t31.1992\t-1 \t147\n",
            "15 \t250   \t120.932\t23.9995\t-1 \t147\n",
            "16 \t250   \t117.704\t31.4512\t-1 \t148\n",
            "17 \t250   \t119.016\t27.997 \t-1 \t147\n",
            "18 \t250   \t120.796\t28.3335\t-1 \t147\n",
            "19 \t250   \t120.76 \t26.2853\t-1 \t148\n",
            "20 \t250   \t124.888\t20.553 \t-1 \t147\n",
            "21 \t250   \t124.412\t24.7121\t-1 \t148\n",
            "22 \t250   \t122.844\t28.9945\t-1 \t148\n",
            "23 \t250   \t126.892\t24.5909\t-1 \t148\n",
            "24 \t250   \t128.28 \t24.2698\t-1 \t148\n",
            "25 \t250   \t127.04 \t26.6212\t-1 \t148\n",
            "26 \t250   \t126.988\t29.0566\t-1 \t148\n",
            "27 \t250   \t126.468\t30.3196\t-1 \t148\n",
            "28 \t250   \t127.292\t28.7581\t-1 \t148\n",
            "29 \t250   \t121.284\t37.7208\t-1 \t148\n",
            "30 \t250   \t126.764\t28.6185\t-1 \t148\n",
            "31 \t250   \t126.952\t29.4399\t-1 \t148\n",
            "32 \t250   \t129.596\t26.5969\t-1 \t148\n",
            "33 \t250   \t130.136\t28.479 \t-1 \t148\n",
            "34 \t250   \t131.684\t26.9016\t-1 \t148\n",
            "35 \t250   \t131.42 \t25.5185\t-1 \t148\n",
            "36 \t250   \t128.332\t33.2019\t-1 \t148\n",
            "37 \t250   \t130.024\t31.4219\t-1 \t148\n",
            "38 \t250   \t130.808\t28.4776\t-1 \t148\n",
            "39 \t250   \t125.2  \t35.5463\t-1 \t148\n",
            "40 \t250   \t131.052\t26.4817\t-1 \t148\n",
            "41 \t250   \t129.508\t29.9827\t-1 \t148\n",
            "42 \t250   \t127.848\t32.1304\t-1 \t148\n",
            "43 \t250   \t127.276\t30.2798\t-1 \t148\n",
            "44 \t250   \t127.156\t30.1051\t-1 \t148\n",
            "45 \t250   \t127.932\t27.9113\t-1 \t148\n",
            "46 \t250   \t125.396\t35.5712\t-1 \t147\n",
            "47 \t250   \t132.048\t22.4834\t-1 \t148\n",
            "48 \t250   \t131.64 \t23.7998\t-1 \t148\n",
            "49 \t250   \t132.716\t24.7251\t-1 \t148\n",
            "50 \t250   \t131.44 \t24.416 \t-1 \t147\n",
            "51 \t250   \t130.44 \t25.9846\t-1 \t148\n",
            "52 \t250   \t130.888\t24.6997\t-1 \t147\n",
            "53 \t250   \t130.052\t25.7983\t-1 \t147\n",
            "54 \t250   \t128.896\t27.46  \t-1 \t147\n",
            "55 \t250   \t132.08 \t20.81  \t-1 \t148\n",
            "56 \t250   \t128.004\t28.5652\t-1 \t148\n",
            "57 \t250   \t129.044\t25.1804\t-1 \t148\n",
            "58 \t250   \t130.964\t22.2851\t-1 \t148\n",
            "59 \t250   \t128.844\t27.7991\t-1 \t148\n",
            "60 \t250   \t134.028\t16.1062\t-1 \t148\n",
            "61 \t250   \t132.132\t21.446 \t-1 \t147\n",
            "62 \t250   \t131.976\t22.8436\t-1 \t148\n",
            "63 \t250   \t129.968\t27.0742\t-1 \t148\n",
            "64 \t250   \t131.516\t22.9837\t-1 \t148\n",
            "65 \t250   \t130.884\t26.0904\t-1 \t148\n",
            "66 \t250   \t130.828\t27.0516\t-1 \t148\n",
            "67 \t250   \t131.192\t28.0163\t-1 \t148\n",
            "68 \t250   \t132.656\t24.4251\t-1 \t148\n",
            "69 \t250   \t129.644\t30.7434\t-1 \t148\n",
            "70 \t250   \t129.736\t31.6505\t-1 \t148\n",
            "71 \t250   \t126.38 \t36.2453\t-1 \t148\n",
            "72 \t250   \t128.516\t31.662 \t-1 \t148\n",
            "73 \t250   \t130.672\t27.5104\t-1 \t148\n",
            "74 \t250   \t132.204\t22.0004\t-1 \t148\n",
            "75 \t250   \t129.196\t27.7905\t-1 \t148\n",
            "76 \t250   \t131.2  \t27.2928\t-1 \t148\n",
            "77 \t250   \t129.384\t28.0198\t-1 \t148\n",
            "78 \t250   \t127.088\t30.9675\t-1 \t148\n",
            "79 \t250   \t126.212\t32.1966\t-1 \t147\n",
            "80 \t250   \t131.652\t23.6343\t-1 \t148\n",
            "81 \t250   \t130.876\t23.8233\t-1 \t148\n",
            "82 \t250   \t128.936\t27.6791\t-1 \t148\n",
            "83 \t250   \t126.664\t30.0513\t-1 \t148\n",
            "84 \t250   \t129.812\t26.6542\t-1 \t148\n",
            "85 \t250   \t131.212\t21.9198\t-1 \t148\n",
            "86 \t250   \t131.788\t22.9246\t-1 \t148\n",
            "87 \t250   \t133.32 \t20.1336\t-1 \t148\n",
            "88 \t250   \t134.352\t18.0554\t-1 \t148\n",
            "89 \t250   \t133.164\t19.0547\t-1 \t148\n",
            "90 \t250   \t132.204\t19.6121\t-1 \t148\n",
            "91 \t250   \t130.14 \t25.4923\t-1 \t148\n",
            "92 \t250   \t130.74 \t20.7925\t-1 \t148\n",
            "93 \t250   \t131.044\t22.2361\t-1 \t148\n",
            "94 \t250   \t129.116\t24.2105\t-1 \t148\n",
            "95 \t250   \t128.62 \t27.0539\t-1 \t148\n",
            "96 \t250   \t126.544\t29.865 \t-1 \t148\n",
            "97 \t250   \t128.516\t24.2415\t-1 \t148\n",
            "98 \t250   \t128.132\t26.9486\t-1 \t148\n",
            "99 \t250   \t129.032\t25.278 \t-1 \t147\n",
            "100\t250   \t124.292\t34.0163\t-1 \t148\n"
          ],
          "name": "stdout"
        }
      ]
    },
    {
      "cell_type": "code",
      "metadata": {
        "id": "L7uenI_EpMfO",
        "colab_type": "code",
        "outputId": "59cd1077-f84b-491f-efe8-0cb6d0864da4",
        "colab": {
          "base_uri": "https://localhost:8080/",
          "height": 34
        }
      },
      "source": [
        "melhor = sorted([(x, x.fitness.values) for x in pop], key=lambda x: x[1], reverse= True)\n",
        "\n",
        "print(melhor[0],)"
      ],
      "execution_count": 23,
      "outputs": [
        {
          "output_type": "stream",
          "text": [
            "([1, 1, 0, 0, 1, 1, 1, 0, 1, 1, 0, 1], (148.0,))\n"
          ],
          "name": "stdout"
        }
      ]
    }
  ]
}