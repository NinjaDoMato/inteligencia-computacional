{
  "nbformat": 4,
  "nbformat_minor": 0,
  "metadata": {
    "colab": {
      "name": "Trabalho 4 - Perceptron.ipynb",
      "provenance": [],
      "collapsed_sections": [],
      "include_colab_link": true
    },
    "kernelspec": {
      "name": "python3",
      "display_name": "Python 3"
    }
  },
  "cells": [
    {
      "cell_type": "markdown",
      "metadata": {
        "id": "view-in-github",
        "colab_type": "text"
      },
      "source": [
        "<a href=\"https://colab.research.google.com/github/NinjaDoMato/inteligencia-computacional/blob/master/Trabalho_4_Perceptron.ipynb\" target=\"_parent\"><img src=\"https://colab.research.google.com/assets/colab-badge.svg\" alt=\"Open In Colab\"/></a>"
      ]
    },
    {
      "cell_type": "code",
      "metadata": {
        "id": "wfFdjGBVM65V",
        "colab_type": "code",
        "colab": {}
      },
      "source": [
        "import numpy as np"
      ],
      "execution_count": 0,
      "outputs": []
    },
    {
      "cell_type": "code",
      "metadata": {
        "id": "zpZq1EcEQsaZ",
        "colab_type": "code",
        "colab": {}
      },
      "source": [
        "class Perceptron(object):\n",
        "\n",
        "  def __init__(self, no_of_inputs, threshold=100, learning_rate=0.01):\n",
        "    self.threshold = threshold        \n",
        "    self.learning_rate = learning_rate\n",
        "    self.weights = np.zeros(no_of_inputs + 1)\n",
        "    \n",
        "  def predict(self, inputs):\n",
        "    somatory = np.dot(inputs, self.weights[1:]) + self.weights[0]\n",
        "\n",
        "    activation = 0\n",
        "\n",
        "    if somatory > 0: \n",
        "      activation = 1\n",
        "\n",
        "    return activation\n",
        "\n",
        "  def train(self, training_inputs, labels):\n",
        "          for _ in range(self.threshold):\n",
        "              for inputs, label in zip(training_inputs, labels):\n",
        "\n",
        "                  prediction = self.predict(inputs)\n",
        "\n",
        "                  self.weights[1:] += self.learning_rate * (label - prediction) * inputs\n",
        "                  self.weights[0] += self.learning_rate * (label - prediction)"
      ],
      "execution_count": 0,
      "outputs": []
    },
    {
      "cell_type": "code",
      "metadata": {
        "id": "y-VWZ7Z_SgGG",
        "colab_type": "code",
        "colab": {}
      },
      "source": [
        "training_inputs = []\n",
        "training_inputs.append(np.array([0, 0]))\n",
        "training_inputs.append(np.array([0, 1]))\n",
        "training_inputs.append(np.array([1, 0]))\n",
        "training_inputs.append(np.array([1, 1]))"
      ],
      "execution_count": 0,
      "outputs": []
    },
    {
      "cell_type": "code",
      "metadata": {
        "id": "EzTrQFiRS5iP",
        "colab_type": "code",
        "colab": {}
      },
      "source": [
        "labels = np.array([1, 1, 0, 0])"
      ],
      "execution_count": 0,
      "outputs": []
    },
    {
      "cell_type": "code",
      "metadata": {
        "id": "Sm_4xQn9S5xy",
        "colab_type": "code",
        "colab": {}
      },
      "source": [
        "perceptron = Perceptron(2)\n",
        "perceptron.train(training_inputs, labels)"
      ],
      "execution_count": 0,
      "outputs": []
    },
    {
      "cell_type": "code",
      "metadata": {
        "id": "wVBc9LEIUJOu",
        "colab_type": "code",
        "outputId": "f22caffc-b227-42a6-a550-f5ba4a52616f",
        "colab": {
          "base_uri": "https://localhost:8080/",
          "height": 84
        }
      },
      "source": [
        "inputs = []\n",
        "inputs.append(np.array([0, 0]))\n",
        "inputs.append(np.array([0, 1]))\n",
        "inputs.append(np.array([1, 0]))\n",
        "inputs.append(np.array([1, 1]))\n",
        "\n",
        "for input in inputs:\n",
        "  prediction = perceptron.predict(input)\n",
        "  label = \"Cientista\"\n",
        "  if(prediction == 1):\n",
        "    label = \"Escritor\"\n",
        "\n",
        "  print(\"{0}: {1}\".format(input, label))"
      ],
      "execution_count": 0,
      "outputs": [
        {
          "output_type": "stream",
          "text": [
            "[0 0]: Escritor\n",
            "[0 1]: Escritor\n",
            "[1 0]: Cientista\n",
            "[1 1]: Cientista\n"
          ],
          "name": "stdout"
        }
      ]
    }
  ]
}