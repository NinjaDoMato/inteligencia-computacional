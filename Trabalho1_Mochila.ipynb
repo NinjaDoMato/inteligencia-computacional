{
  "nbformat": 4,
  "nbformat_minor": 0,
  "metadata": {
    "colab": {
      "name": "Trabalho1 - Mochila.ipynb",
      "provenance": [],
      "collapsed_sections": [],
      "include_colab_link": true
    },
    "kernelspec": {
      "name": "python3",
      "display_name": "Python 3"
    }
  },
  "cells": [
    {
      "cell_type": "markdown",
      "metadata": {
        "id": "view-in-github",
        "colab_type": "text"
      },
      "source": [
        "<a href=\"https://colab.research.google.com/github/NinjaDoMato/inteligencia-computacional/blob/master/Trabalho1_Mochila.ipynb\" target=\"_parent\"><img src=\"https://colab.research.google.com/assets/colab-badge.svg\" alt=\"Open In Colab\"/></a>"
      ]
    },
    {
      "cell_type": "code",
      "metadata": {
        "id": "13XoVHEE7MhE",
        "colab_type": "code",
        "outputId": "802c6fba-a293-4713-b9f6-af2b5bdeed73",
        "colab": {
          "base_uri": "https://localhost:8080/",
          "height": 34
        }
      },
      "source": [
        "\"\"\"\n",
        "Problema da Mochila\n",
        "\n",
        "Autor: Daniel Deda\n",
        "\"\"\""
      ],
      "execution_count": 15,
      "outputs": [
        {
          "output_type": "execute_result",
          "data": {
            "text/plain": [
              "'\\nProblema da Mochila\\n\\nAutor: Daniel Deda\\n'"
            ]
          },
          "metadata": {
            "tags": []
          },
          "execution_count": 15
        }
      ]
    },
    {
      "cell_type": "code",
      "metadata": {
        "id": "1hl1U2JhpogK",
        "colab_type": "code",
        "colab": {}
      },
      "source": [
        "#pip install -q deap"
      ],
      "execution_count": 0,
      "outputs": []
    },
    {
      "cell_type": "code",
      "metadata": {
        "id": "sM2dAntTo5N_",
        "colab_type": "code",
        "colab": {}
      },
      "source": [
        "import random\n",
        "\n",
        "from deap import base\n",
        "from deap import creator\n",
        "from deap import tools\n",
        "from deap import algorithms\n",
        "\n",
        "import numpy"
      ],
      "execution_count": 0,
      "outputs": []
    },
    {
      "cell_type": "code",
      "metadata": {
        "id": "bOQGMSsipAwy",
        "colab_type": "code",
        "colab": {}
      },
      "source": [
        "TAM_CROMOSSOMO = 12\n",
        "TAM_POPULACAO = 250\n",
        "\n",
        "ItemList = [[\"Bug Repelent\", 12, 2], \n",
        "            [\"Camp Stove\", 5, 4], \n",
        "            [\"Canteen\", 10, 7], \n",
        "            [\"Clothes\", 1, 5], \n",
        "            [\"Dried Food\", 50, 3],\n",
        "            [\"First Aid Kit\", 15, 3],\n",
        "            [\"FlashLight\", 6, 2],\n",
        "            [\"Novel\", 4, 2],\n",
        "            [\"Rain Gear\", 5, 2],\n",
        "            [\"Sleeping Bag\", 25, 3],\n",
        "            [\"Tent\", 20, 11],\n",
        "            [\"Water Filter\", 30, 1]]\n",
        "\n",
        "def fitness(cromossomo):\n",
        "    \"\"\"Funcao fitness para maximizar o cromossomo\n",
        "    Deve retornar uma tupla!!!\n",
        "    \"\"\"\n",
        "    weight = 0    \n",
        "    total = 0\n",
        "\n",
        "    for i, item in enumerate(cromossomo): \n",
        "        if item == 1:\n",
        "            total += ItemList[i][1]           \n",
        "            weight += ItemList[i][2]\n",
        "        \n",
        "    if weight > 20:\n",
        "        total = -1\n",
        "    \n",
        "    return total, weight"
      ],
      "execution_count": 0,
      "outputs": []
    },
    {
      "cell_type": "code",
      "metadata": {
        "id": "e-oPpqGJpD4V",
        "colab_type": "code",
        "outputId": "283ad2ac-7535-452c-a0ae-59cdb995f049",
        "colab": {
          "base_uri": "https://localhost:8080/",
          "height": 85
        }
      },
      "source": [
        "# Define a estrategia do fitness\n",
        "# - weights: define se o problema é de maximizacao (+1) ou minimizacao (-1)\n",
        "creator.create(\"FitnessMax\", base.Fitness, weights=(1.0,))\n",
        "\n",
        "# Define a estrutura do cromossomo\n",
        "creator.create(\"Individual\", list, fitness=creator.FitnessMax)"
      ],
      "execution_count": 19,
      "outputs": [
        {
          "output_type": "stream",
          "text": [
            "/usr/local/lib/python3.6/dist-packages/deap/creator.py:141: RuntimeWarning: A class named 'FitnessMax' has already been created and it will be overwritten. Consider deleting previous creation of that class or rename it.\n",
            "  RuntimeWarning)\n",
            "/usr/local/lib/python3.6/dist-packages/deap/creator.py:141: RuntimeWarning: A class named 'Individual' has already been created and it will be overwritten. Consider deleting previous creation of that class or rename it.\n",
            "  RuntimeWarning)\n"
          ],
          "name": "stderr"
        }
      ]
    },
    {
      "cell_type": "code",
      "metadata": {
        "id": "Dcu73qI7pGsC",
        "colab_type": "code",
        "colab": {}
      },
      "source": [
        "# Define os componentes para configurar a populacao\n",
        "toolbox = base.Toolbox()\n",
        "\n",
        "# Gerador para os individuos\n",
        "toolbox.register(\"attr_bool\", random.randint, 0, 1)\n",
        "\n",
        "# Inicializador da populacao\n",
        "toolbox.register(\"individual\", tools.initRepeat, \n",
        "                 creator.Individual, \n",
        "                 toolbox.attr_bool, TAM_CROMOSSOMO)\n",
        "\n",
        "toolbox.register(\"population\", tools.initRepeat, list, toolbox.individual)"
      ],
      "execution_count": 0,
      "outputs": []
    },
    {
      "cell_type": "code",
      "metadata": {
        "id": "U1DzqGuYpH-i",
        "colab_type": "code",
        "colab": {}
      },
      "source": [
        "# Define os operadores geneticos\n",
        "toolbox.register(\"evaluate\", fitness)\n",
        "\n",
        "toolbox.register(\"mate\", tools.cxTwoPoint)\n",
        "toolbox.register(\"mutate\", tools.mutFlipBit, indpb=0.1)\n",
        "toolbox.register(\"select\", tools.selRoulette)"
      ],
      "execution_count": 0,
      "outputs": []
    },
    {
      "cell_type": "code",
      "metadata": {
        "id": "eEf2md1LpJdR",
        "colab_type": "code",
        "colab": {}
      },
      "source": [
        "# Cria a populacao inicial\n",
        "populacao = toolbox.population(n=TAM_POPULACAO)"
      ],
      "execution_count": 0,
      "outputs": []
    },
    {
      "cell_type": "code",
      "metadata": {
        "id": "ZCefCxbUpLoh",
        "colab_type": "code",
        "outputId": "3a6e2a64-0e00-42ce-9963-5e4d69bd0ab6",
        "colab": {
          "base_uri": "https://localhost:8080/",
          "height": 1000
        }
      },
      "source": [
        "hof = tools.HallOfFame(10)\n",
        "stats = tools.Statistics(lambda ind: ind.fitness.values)\n",
        "stats.register(\"avg\", numpy.mean)\n",
        "stats.register(\"std\", numpy.std)\n",
        "stats.register(\"min\", numpy.min)\n",
        "stats.register(\"max\", numpy.max)\n",
        "    \n",
        "pop, log = algorithms.eaSimple(populacao, \n",
        "                               toolbox, \n",
        "                               cxpb=1, \n",
        "                               mutpb=0.1, \n",
        "                               ngen=100, \n",
        "                               stats=stats, \n",
        "                               halloffame=hof, \n",
        "                               verbose=True)"
      ],
      "execution_count": 23,
      "outputs": [
        {
          "output_type": "stream",
          "text": [
            "gen\tnevals\tavg   \tstd    \tmin\tmax\n",
            "0  \t250   \t29.688\t41.4318\t-1 \t134\n",
            "1  \t250   \t71.86 \t41.0581\t-1 \t143\n",
            "2  \t250   \t84.74 \t38.4481\t-1 \t146\n",
            "3  \t250   \t92.86 \t36.6758\t-1 \t148\n",
            "4  \t250   \t96.688\t36.5737\t-1 \t147\n",
            "5  \t250   \t101.18\t33.989 \t-1 \t147\n",
            "6  \t250   \t104.028\t33.5291\t-1 \t147\n",
            "7  \t250   \t104.16 \t37.3898\t-1 \t148\n",
            "8  \t250   \t113.292\t26.4298\t-1 \t148\n",
            "9  \t250   \t107.86 \t33.4799\t-1 \t147\n",
            "10 \t250   \t109.568\t32.6937\t-1 \t148\n",
            "11 \t250   \t114.424\t28.4213\t-1 \t148\n",
            "12 \t250   \t114.648\t32.0576\t-1 \t148\n",
            "13 \t250   \t118.42 \t27.8609\t-1 \t148\n",
            "14 \t250   \t118.512\t29.0158\t-1 \t148\n",
            "15 \t250   \t121.548\t25.8231\t-1 \t148\n",
            "16 \t250   \t123.716\t24.5988\t-1 \t148\n",
            "17 \t250   \t123.68 \t26.3226\t-1 \t148\n",
            "18 \t250   \t121.696\t30.6545\t-1 \t148\n",
            "19 \t250   \t124.504\t26.7567\t-1 \t148\n",
            "20 \t250   \t124.824\t26.1609\t-1 \t148\n",
            "21 \t250   \t121.324\t33.065 \t-1 \t148\n",
            "22 \t250   \t124.28 \t26.2714\t-1 \t148\n",
            "23 \t250   \t124.816\t25.038 \t-1 \t148\n",
            "24 \t250   \t120.568\t35.0989\t-1 \t148\n",
            "25 \t250   \t126.256\t23.6355\t-1 \t148\n",
            "26 \t250   \t124.648\t26.8482\t-1 \t147\n",
            "27 \t250   \t125.176\t28.1841\t-1 \t148\n",
            "28 \t250   \t126.124\t25.9976\t-1 \t148\n",
            "29 \t250   \t126.752\t26.2638\t-1 \t148\n",
            "30 \t250   \t128.772\t21.9443\t-1 \t148\n",
            "31 \t250   \t125.34 \t30.9974\t-1 \t148\n",
            "32 \t250   \t129.552\t24.296 \t-1 \t148\n",
            "33 \t250   \t128.012\t28.2498\t-1 \t148\n",
            "34 \t250   \t123.924\t36.0911\t-1 \t148\n",
            "35 \t250   \t129.06 \t26.751 \t-1 \t148\n",
            "36 \t250   \t129.288\t29.584 \t-1 \t148\n",
            "37 \t250   \t131.8  \t23.1328\t-1 \t148\n",
            "38 \t250   \t129.532\t27.2002\t-1 \t148\n",
            "39 \t250   \t130.112\t26.3099\t-1 \t148\n",
            "40 \t250   \t129.972\t27.1314\t-1 \t148\n",
            "41 \t250   \t130.804\t25.2398\t-1 \t148\n",
            "42 \t250   \t130.76 \t27.2253\t-1 \t148\n",
            "43 \t250   \t132.372\t23.0546\t-1 \t148\n",
            "44 \t250   \t132.284\t23.1504\t-1 \t148\n",
            "45 \t250   \t131.684\t23.9616\t-1 \t148\n",
            "46 \t250   \t128.96 \t28.1553\t-1 \t148\n",
            "47 \t250   \t127.356\t31.647 \t-1 \t147\n",
            "48 \t250   \t129.22 \t32.0813\t-1 \t147\n",
            "49 \t250   \t129.58 \t29.061 \t-1 \t148\n",
            "50 \t250   \t133.172\t21.982 \t-1 \t148\n",
            "51 \t250   \t129.6  \t30.2565\t-1 \t148\n",
            "52 \t250   \t129.3  \t31.3478\t-1 \t148\n",
            "53 \t250   \t127.776\t34.6376\t-1 \t148\n",
            "54 \t250   \t131.188\t26.4262\t-1 \t148\n",
            "55 \t250   \t130.38 \t27.0066\t-1 \t148\n",
            "56 \t250   \t128.172\t33.9796\t-1 \t148\n",
            "57 \t250   \t134.76 \t21.1088\t-1 \t148\n",
            "58 \t250   \t129.336\t32.9454\t-1 \t148\n",
            "59 \t250   \t131.844\t29.2681\t-1 \t148\n",
            "60 \t250   \t132.692\t26.702 \t-1 \t148\n",
            "61 \t250   \t134.044\t23.6414\t-1 \t148\n",
            "62 \t250   \t133.1  \t26.6915\t-1 \t148\n",
            "63 \t250   \t133.124\t26.449 \t-1 \t148\n",
            "64 \t250   \t130.444\t30.5321\t-1 \t148\n",
            "65 \t250   \t129.596\t31.3879\t-1 \t148\n",
            "66 \t250   \t129.992\t30.6957\t-1 \t147\n",
            "67 \t250   \t131.028\t31.452 \t-1 \t147\n",
            "68 \t250   \t132.044\t28.657 \t-1 \t148\n",
            "69 \t250   \t135.384\t21.1315\t-1 \t147\n",
            "70 \t250   \t133.916\t26.2227\t-1 \t147\n",
            "71 \t250   \t134.328\t25.6416\t-1 \t147\n",
            "72 \t250   \t135.66 \t22.5202\t-1 \t147\n",
            "73 \t250   \t131.7  \t29.5279\t-1 \t148\n",
            "74 \t250   \t134.784\t25.3797\t-1 \t147\n",
            "75 \t250   \t134.26 \t26.5321\t-1 \t148\n",
            "76 \t250   \t131.428\t31.5964\t-1 \t148\n",
            "77 \t250   \t132.472\t29.1955\t-1 \t148\n",
            "78 \t250   \t131.288\t30.6957\t-1 \t148\n",
            "79 \t250   \t133.596\t27.0206\t-1 \t147\n",
            "80 \t250   \t134.144\t27.0625\t-1 \t147\n",
            "81 \t250   \t133.096\t30.7187\t-1 \t148\n",
            "82 \t250   \t132.28 \t29.6954\t-1 \t148\n",
            "83 \t250   \t132.416\t28.212 \t-1 \t148\n",
            "84 \t250   \t133.304\t25.598 \t-1 \t148\n",
            "85 \t250   \t131.784\t29.6589\t-1 \t148\n",
            "86 \t250   \t135.196\t23.4853\t-1 \t147\n",
            "87 \t250   \t134.996\t23.1004\t-1 \t147\n",
            "88 \t250   \t132.288\t29.6856\t-1 \t147\n",
            "89 \t250   \t134.256\t25.9092\t-1 \t148\n",
            "90 \t250   \t135.092\t22.0057\t-1 \t147\n",
            "91 \t250   \t131.084\t28.685 \t-1 \t147\n",
            "92 \t250   \t133.256\t23.4923\t-1 \t147\n",
            "93 \t250   \t133.356\t27.2427\t-1 \t148\n",
            "94 \t250   \t133.208\t27.5746\t-1 \t148\n",
            "95 \t250   \t134.476\t23.0665\t-1 \t147\n",
            "96 \t250   \t133.192\t26.4518\t-1 \t147\n",
            "97 \t250   \t130.964\t29.4893\t-1 \t147\n",
            "98 \t250   \t131.988\t23.854 \t-1 \t147\n",
            "99 \t250   \t131.292\t23.9131\t-1 \t147\n",
            "100\t250   \t131.708\t23.5038\t-1 \t147\n"
          ],
          "name": "stdout"
        }
      ]
    },
    {
      "cell_type": "code",
      "metadata": {
        "id": "L7uenI_EpMfO",
        "colab_type": "code",
        "outputId": "583e926f-4565-4f4d-d49d-90d510f44ae4",
        "colab": {
          "base_uri": "https://localhost:8080/",
          "height": 34
        }
      },
      "source": [
        "melhor = sorted([(x, x.fitness.values) for x in pop], key=lambda x: x[1], reverse= True)\n",
        "\n",
        "print(melhor[0],)"
      ],
      "execution_count": 24,
      "outputs": [
        {
          "output_type": "stream",
          "text": [
            "([1, 1, 0, 0, 1, 1, 1, 1, 0, 1, 0, 1], (147.0,))\n"
          ],
          "name": "stdout"
        }
      ]
    }
  ]
}